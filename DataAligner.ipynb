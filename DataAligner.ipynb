{
 "cells": [
  {
   "cell_type": "code",
   "execution_count": 122,
   "metadata": {},
   "outputs": [],
   "source": [
    "import sys\n",
    "import csv\n",
    "import os"
   ]
  },
  {
   "cell_type": "code",
   "execution_count": 123,
   "metadata": {},
   "outputs": [],
   "source": [
    "fileName = \"Wade_Wilson_(Earth-616)_output.txt\""
   ]
  },
  {
   "cell_type": "code",
   "execution_count": 141,
   "metadata": {},
   "outputs": [],
   "source": [
    "def singleFileRead(fileName, id):\n",
    "    Name = ''\n",
    "    Affiliation = ''\n",
    "    Marital_Status = ''\n",
    "    Gender = ''\n",
    "    Height = ''\n",
    "    Weight = ''\n",
    "    Eyes = ''\n",
    "    Hair = ''\n",
    "    Unusual_Features = ''\n",
    "    Origin = ''\n",
    "    Living_Status = ''\n",
    "    Reality = ''\n",
    "    Place_of_Birth = ''\n",
    "    Identity = ''\n",
    "    Citizenship = ''\n",
    "    Occupation = ''\n",
    "    Creator1 = ''\n",
    "    Creator2 = ''\n",
    "    First = ''\n",
    "    Blob = ''\n",
    "    Name = fileName.split(\"_output.txt\")[0]\n",
    "    with open(fileName,'r') as tsvin:\n",
    "        for line in csv.reader(tsvin, delimiter='\\t'):\n",
    "            for categories in csv.reader(line, delimiter = ','):\n",
    "                if(not categories):\n",
    "                    continue\n",
    "                elif(categories[0] == \"Characters\"):\n",
    "                    for item in categories:\n",
    "                        Blob += item\n",
    "                        Blob += '|'\n",
    "                    break\n",
    "                else:\n",
    "                    for num, item in enumerate(categories, start=0):\n",
    "                        try:\n",
    "                            if(item == 'Affiliation'):\n",
    "                                Affiliation = categories[num + 1]\n",
    "                            if(item == 'Marital Status'):\n",
    "                                Marital_Status = categories[num + 1]\n",
    "                            if(item == 'Gender'):\n",
    "                                Gender = categories[num + 1]\n",
    "                            if(item == 'Height'):\n",
    "                                Height = categories[num + 1]\n",
    "                            if(item == 'Weight'):\n",
    "                                Weight = categories[num + 1]\n",
    "                            if(item == 'Eyes'):\n",
    "                                Eyes = categories[num + 1]\n",
    "                            if(item == 'Hair'):\n",
    "                                Hair = categories[num + 1]\n",
    "                            if(item == 'Unusual Features'):\n",
    "                                Unusual_Features = categories[num + 1]\n",
    "                            if(item == 'Origin'):\n",
    "                                Origin = categories[num + 1]\n",
    "                            if(item == 'Living Status'):\n",
    "                                Living_Status = categories[num + 1]\n",
    "                            if(item == 'Reality'):\n",
    "                                Reality = categories[num + 1]\n",
    "                            if(item == 'Place of Birth'):\n",
    "                                Place_of_Birth = categories[num + 1]\n",
    "                            if(item == 'Identity'):\n",
    "                                Identity = categories[num + 1]\n",
    "                            if(item == 'Occupation'):\n",
    "                                Occupation = categories[num + 1]\n",
    "                            if(item == 'First'):\n",
    "                                First = categories[num + 1].split('(')[0]\n",
    "                            if(item == 'Creators'):\n",
    "                                Creator1 = categories[num + 1]\n",
    "                                if(categories[num + 2] != 'First'): Creator2 = categories[num + 2]\n",
    "                        except IndexError:\n",
    "                            continue\n",
    "    print(str(id) + ',' + str(Name) + ',' + str(Affiliation) + ',' + str(Marital_Status) + ',' + str(Gender) + ',' + str(Height) + ',' + str(Weight) + ',' + str(Eyes) + ',' + str(Hair) + ',' + str(Unusual_Features) + ',' + str(Origin) + ',' + str(Living_Status) + ',' + str(Reality) + ',' + str(Place_of_Birth) + ',' + str(Identity) + ',' + str(Citizenship) + ',' + str(Occupation) + ',' + str(Creator1) + ',' + str(Creator2) + ',' + str(First) + ',' + str(Blob))\n",
    "    "
   ]
  },
  {
   "cell_type": "code",
   "execution_count": 142,
   "metadata": {},
   "outputs": [
    {
     "name": "stdout",
     "output_type": "stream",
     "text": [
      "0,Wade_Wilson_(Earth-616),Mercs for Money,Separated,Male,6′2″ (1.88 m),210 lbs (95.25 kg),Irises:Brown,Bald (currently),Horribly scarred skin as a result of his cancer.,Human mutate after being a Department K test subject; former Ghost[39],Alive,Earth-616,Canada,Known to Authorities,,Mercenary,Fabian Nicieza, Rob Liefeld,New Mutants #98\n"
     ]
    }
   ],
   "source": [
    "print(str(id) + ',' + str(Name) + ',' + str(Affiliation) + ',' + str(Marital_Status) + ',' + str(Gender) + ',' + str(Height) + ',' + str(Weight) + ',' + str(Eyes) + ',' + str(Hair) + ',' + str(Unusual_Features) + ',' + str(Origin) + ',' + str(Living_Status) + ',' + str(Reality) + ',' + str(Place_of_Birth) + ',' + str(Identity) + ',' + str(Citizenship) + ',' + str(Occupation) + ',' + str(Creator1) + ',' + str(Creator2) + ',' + str(First))"
   ]
  },
  {
   "cell_type": "code",
   "execution_count": 143,
   "metadata": {},
   "outputs": [
    {
     "name": "stdout",
     "output_type": "stream",
     "text": [
      "3,Wade_Wilson_(Earth-616),Mercs for Money,Separated,Male,6′2″ (1.88 m),210 lbs (95.25 kg),Irises:Brown,Bald (currently),Horribly scarred skin as a result of his cancer.,Human mutate after being a Department K test subject; former Ghost[39],Alive,Earth-616,Canada,Known to Authorities,,Mercenary,Fabian Nicieza, Rob Liefeld,New Mutants #98,Characters|Mercs for Money (Earth-616)/Members|Deadpool| Inc. (Earth-616)/Members|War Avengers (Earth-616)/Members|Get Some Press (Earth-616)/Members|Avengers (Hydra) (Earth-616)/Members|Avengers Unity Division (Earth-616)/Members|Astonishing Avengers (Earth-616)/Members|Thunderbolts (Red Hulk) (Earth-616)/Members|X-Force (Strike Team) (Earth-616)/Members|Deadpool Corps (Multiverse)/Members|Strategic Homeland Intervention| Enforcement and Logistics Division (Earth-616)/Members|Code Red (Earth-616)/Members|50-State Initiative (Earth-616)/Members|Six Pack (Earth-616)/Members|Agency X (Earth-616)/Members|One World Church (Earth-616)/Members|Heroes for Hire (Oracle Inc.) (Earth-616)/Members|Secret Defenders (Earth-616)/Members|Frightful Four (Earth-616)/Members|Team Deadpool (Earth-616)/Members|Weapon X (Earth-616)/Members|Department K (Earth-616)/Members|United States Army (Earth-616)/Members|United States Army Special Forces (Earth-616)/Members|Great Lakes Avengers (Earth-616)/Members|X-Men (Earth-616)/Members|Male Characters|Ghosts|Mutates|Humans (Homo sapiens)|Known to Authorities Identity Characters|Fabian Nicieza/Creator|Rob Liefeld/Creator|Separated Characters|Height 6 ft. 2 in. (1.88 m)|Weight 200-219 lbs (90.72-99.79 kg)|Brown Eyes|Bald|Brown Hair|Living Characters|Earth-616/Characters|Canadians|Body Guards|Assassins|Adventurers|Wrestlers|Government Agents|Military Personnel|Mercenaries|Pirates|Monarchs|1990 Character Debuts|Pages using Timeline|Wade Wilson (Earth-616)/Quotes|Power Grid Added|Power Grid/Intelligence/Normal|Power Grid/Strength/Superhuman (800 lbs-25 ton)|Power Grid/Speed/Normal|Power Grid/Speed/Warp|Power Grid/Durability/Regenerative|Power Grid/Energy Projection/None|Power Grid/Fighting Skills/Master: Several Forms of Combat|Power Grid Complete|Regeneration|Cosmic Awareness|Telepathic Immunity|Toxic Immunity|Martial Arts|Multilingual|Fencing|Insanity|Utopians|Cancer (disease)|Teleporters|Divorced Characters|Darkhölme Family|Kale Family|Wilson Family|Comic Awareness|Weapons Expert|Symbiotes-possessed|Artificial Mutants|Bovinophobia|Shared body characters|Fugitives|Butler Experiment|Thrown Weapons|Shooting|Weapon X Experiment|Gestalt Characters|Tumblr Users|Web-Slinging|Pansexual Characters|Scarred|Gallinophobia|Secret Wars (1984 Event) participants|Secret Wars (2015 Event) participants|Snapchat Users|Twitter Users|Interdimensional Travelers|Time Travelers|Cyborgs|Captain Universe|Instagram Users|Virtual Immortals|Brood-infected|Genetically Engineered|DC Comics Pastiches|Cross-Dressers|Immortals|Superhuman Strength|Superhuman Stamina|Superhuman Agility|Superhuman Reflexes|Superhuman Durability|Fighting Ability - Master of several forms of combat|Powered by a Lifestone|Powered by the Bloodgem|Scorpio (Astrological Sign)||\n"
     ]
    }
   ],
   "source": [
    "singleFileRead(\"Wade_Wilson_(Earth-616)_output.txt\", 3)"
   ]
  },
  {
   "cell_type": "code",
   "execution_count": 138,
   "metadata": {},
   "outputs": [],
   "source": [
    "filenames = [f for f in os.listdir(os.getcwd()) if (os.path.isfile(os.path.join(os.getcwd(), f)) and 'output.txt'in os.path.join(os.getcwd(), f) and '_Vol_' not in os.path.join(os.getcwd(), f))]"
   ]
  },
  {
   "cell_type": "code",
   "execution_count": 139,
   "metadata": {},
   "outputs": [
    {
     "name": "stdout",
     "output_type": "stream",
     "text": [
      "['Wade_Wilson_(Earth-616)_output.txt', 'Vision_(Earth-77640)_output.txt', 'Vision_(Earth-61422)_output.txt', 'Vision_(Earth-71016)_output.txt', 'Vision_(Earth-61610)_output.txt', 'Vision_(Earth-70395)_output.txt', 'Vision_(Earth-71166)_output.txt', 'Vision_(Earth-71912)_output.txt', 'Vision_(Earth-70105)_output.txt']\n"
     ]
    }
   ],
   "source": [
    "print(filenames)"
   ]
  },
  {
   "cell_type": "code",
   "execution_count": 140,
   "metadata": {},
   "outputs": [],
   "source": [
    "\n",
    "original_stdout = sys.stdout\n",
    "with open(\"Data_Import_File.txt\",\"a+\") as f:\n",
    "    sys.stdout = f\n",
    "    for num, fileName in enumerate(filenames, start=0):\n",
    "        if(fileName!= None): singleFileRead(fileName, num)   \n",
    "sys.stdout =    original_stdout "
   ]
  },
  {
   "cell_type": "code",
   "execution_count": null,
   "metadata": {},
   "outputs": [],
   "source": []
  }
 ],
 "metadata": {
  "kernelspec": {
   "display_name": "Python 3",
   "language": "python",
   "name": "python3"
  },
  "language_info": {
   "codemirror_mode": {
    "name": "ipython",
    "version": 3
   },
   "file_extension": ".py",
   "mimetype": "text/x-python",
   "name": "python",
   "nbconvert_exporter": "python",
   "pygments_lexer": "ipython3",
   "version": "3.8.9"
  }
 },
 "nbformat": 4,
 "nbformat_minor": 4
}
